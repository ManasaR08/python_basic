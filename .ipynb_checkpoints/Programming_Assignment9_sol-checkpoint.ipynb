{
 "cells": [
  {
   "cell_type": "markdown",
   "metadata": {},
   "source": [
    "### Question 1"
   ]
  },
  {
   "cell_type": "code",
   "execution_count": 8,
   "metadata": {},
   "outputs": [],
   "source": [
    "def disarium(n):\n",
    "    sum = 0\n",
    "    p = n\n",
    "    num_digits = len(str(n))\n",
    "    while(num_digits != 0):\n",
    "        k = n%10\n",
    "        sum += k**num_digits\n",
    "        n = int(n/10)\n",
    "        num_digits -= 1\n",
    "    if (sum == p):\n",
    "        print('Disarium Number')\n",
    "    else:\n",
    "        print('Not a Disarium Number')"
   ]
  },
  {
   "cell_type": "code",
   "execution_count": 10,
   "metadata": {},
   "outputs": [
    {
     "name": "stdout",
     "output_type": "stream",
     "text": [
      "Disarium Number\n"
     ]
    }
   ],
   "source": [
    "disarium(89)"
   ]
  },
  {
   "cell_type": "markdown",
   "metadata": {},
   "source": [
    "### Question 2"
   ]
  },
  {
   "cell_type": "code",
   "execution_count": 13,
   "metadata": {},
   "outputs": [],
   "source": [
    "def allDisarium():\n",
    "    for n in range(101):\n",
    "        sum = 0\n",
    "        p = n\n",
    "        num_digits = len(str(n))\n",
    "        while(num_digits != 0):\n",
    "            k = n%10\n",
    "            sum += k**num_digits\n",
    "            n = int(n/10)\n",
    "            num_digits -= 1\n",
    "        if (sum == p):\n",
    "            print(p)"
   ]
  },
  {
   "cell_type": "code",
   "execution_count": 14,
   "metadata": {},
   "outputs": [
    {
     "name": "stdout",
     "output_type": "stream",
     "text": [
      "0\n",
      "1\n",
      "2\n",
      "3\n",
      "4\n",
      "5\n",
      "6\n",
      "7\n",
      "8\n",
      "9\n",
      "89\n"
     ]
    }
   ],
   "source": [
    "allDisarium()"
   ]
  },
  {
   "cell_type": "markdown",
   "metadata": {},
   "source": [
    "### Question 3"
   ]
  },
  {
   "cell_type": "code",
   "execution_count": 30,
   "metadata": {},
   "outputs": [],
   "source": [
    "def anydup(thelist):\n",
    "  seen = set()\n",
    "  for x in thelist:\n",
    "    if x in seen: return True\n",
    "    seen.add(x)\n",
    "  return False"
   ]
  },
  {
   "cell_type": "code",
   "execution_count": 39,
   "metadata": {},
   "outputs": [],
   "source": [
    "def happyNumber(n):\n",
    "    l = []\n",
    "    while(True):\n",
    "        num_digits = len(str(n))\n",
    "        s = 0\n",
    "        while(num_digits != 0):\n",
    "            k = n%10\n",
    "            s += k**2\n",
    "            n = int(n/10)\n",
    "            num_digits -= 1\n",
    "        if (s==1):\n",
    "            return \"Happy Number\"\n",
    "            break\n",
    "        l.append(s)\n",
    "        if (anydup(l) == True):\n",
    "            return \"Not Happy Number\"\n",
    "            break\n",
    "        n = s\n",
    "        "
   ]
  },
  {
   "cell_type": "code",
   "execution_count": 42,
   "metadata": {},
   "outputs": [
    {
     "data": {
      "text/plain": [
       "'Happy Number'"
      ]
     },
     "execution_count": 42,
     "metadata": {},
     "output_type": "execute_result"
    }
   ],
   "source": [
    "happyNumber(19)"
   ]
  },
  {
   "cell_type": "markdown",
   "metadata": {},
   "source": [
    "### Question 4"
   ]
  },
  {
   "cell_type": "code",
   "execution_count": 45,
   "metadata": {},
   "outputs": [],
   "source": [
    "def allHappy():\n",
    "    for n in range(101):\n",
    "        l = []\n",
    "        p = n\n",
    "        while(True):\n",
    "            num_digits = len(str(n))\n",
    "            s = 0\n",
    "            while(num_digits != 0):\n",
    "                k = n%10\n",
    "                s += k**2\n",
    "                n = int(n/10)\n",
    "                num_digits -= 1\n",
    "            if (s==1):\n",
    "                print(p)\n",
    "                break\n",
    "            l.append(s)\n",
    "            if (anydup(l) == True):\n",
    "                break\n",
    "            n = s"
   ]
  },
  {
   "cell_type": "code",
   "execution_count": 46,
   "metadata": {},
   "outputs": [
    {
     "name": "stdout",
     "output_type": "stream",
     "text": [
      "1\n",
      "7\n",
      "10\n",
      "13\n",
      "19\n",
      "23\n",
      "28\n",
      "31\n",
      "32\n",
      "44\n",
      "49\n",
      "68\n",
      "70\n",
      "79\n",
      "82\n",
      "86\n",
      "91\n",
      "94\n",
      "97\n",
      "100\n"
     ]
    }
   ],
   "source": [
    "allHappy()"
   ]
  },
  {
   "cell_type": "markdown",
   "metadata": {},
   "source": [
    "### Question 5"
   ]
  },
  {
   "cell_type": "code",
   "execution_count": 47,
   "metadata": {},
   "outputs": [],
   "source": [
    "def harshad(n):\n",
    "    s = 0\n",
    "    p = n\n",
    "    num_digits = len(str(n))\n",
    "    while(n != 0):\n",
    "        k = n%10\n",
    "        s += k\n",
    "        n = int(n/10)\n",
    "        num_digits -= 1\n",
    "    if (p%s == 0):\n",
    "        print(\"Harshad Number\")\n",
    "    else:\n",
    "        print(\"Not Harshad Number\")"
   ]
  },
  {
   "cell_type": "code",
   "execution_count": 50,
   "metadata": {},
   "outputs": [
    {
     "name": "stdout",
     "output_type": "stream",
     "text": [
      "Harshad Number\n"
     ]
    }
   ],
   "source": [
    "harshad(18)"
   ]
  },
  {
   "cell_type": "markdown",
   "metadata": {},
   "source": [
    "### Question 6"
   ]
  },
  {
   "cell_type": "code",
   "execution_count": 77,
   "metadata": {},
   "outputs": [],
   "source": [
    "import math\n",
    "def allPronic():\n",
    "    for n in range(100):\n",
    "        count = 0\n",
    "        for i in range(n):\n",
    "            if (n == i*(i+1)):\n",
    "                print(n)\n",
    "                break"
   ]
  },
  {
   "cell_type": "code",
   "execution_count": 78,
   "metadata": {},
   "outputs": [
    {
     "name": "stdout",
     "output_type": "stream",
     "text": [
      "2\n",
      "6\n",
      "12\n",
      "20\n",
      "30\n",
      "42\n",
      "56\n",
      "72\n",
      "90\n"
     ]
    }
   ],
   "source": [
    "allPronic()"
   ]
  },
  {
   "cell_type": "code",
   "execution_count": null,
   "metadata": {},
   "outputs": [],
   "source": []
  }
 ],
 "metadata": {
  "kernelspec": {
   "display_name": "Python 3",
   "language": "python",
   "name": "python3"
  },
  "language_info": {
   "codemirror_mode": {
    "name": "ipython",
    "version": 3
   },
   "file_extension": ".py",
   "mimetype": "text/x-python",
   "name": "python",
   "nbconvert_exporter": "python",
   "pygments_lexer": "ipython3",
   "version": "3.6.8"
  }
 },
 "nbformat": 4,
 "nbformat_minor": 2
}
