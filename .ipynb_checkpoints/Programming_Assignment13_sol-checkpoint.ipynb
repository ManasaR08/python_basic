{
 "cells": [
  {
   "cell_type": "markdown",
   "metadata": {},
   "source": [
    "### Question 1"
   ]
  },
  {
   "cell_type": "code",
   "execution_count": 9,
   "metadata": {},
   "outputs": [],
   "source": [
    "import math\n",
    "def calculate(D):\n",
    "    Q = []\n",
    "    for i in D:\n",
    "        k = (2*50*i)/30\n",
    "        q = math.sqrt(k)\n",
    "        Q.append(round(q))\n",
    "    return Q"
   ]
  },
  {
   "cell_type": "code",
   "execution_count": 10,
   "metadata": {},
   "outputs": [
    {
     "data": {
      "text/plain": [
       "[18, 22, 24]"
      ]
     },
     "execution_count": 10,
     "metadata": {},
     "output_type": "execute_result"
    }
   ],
   "source": [
    "calculate([100,150,180])"
   ]
  },
  {
   "cell_type": "markdown",
   "metadata": {},
   "source": [
    "### Question 2"
   ]
  },
  {
   "cell_type": "code",
   "execution_count": 28,
   "metadata": {},
   "outputs": [],
   "source": [
    "def two_dimention_array(X,Y):\n",
    "    arr = [[0 for col in range(Y)] for row in range(X)]\n",
    "    for i in range(X):\n",
    "        for j in range(Y):\n",
    "            arr[i][j] = i*j\n",
    "    return arr"
   ]
  },
  {
   "cell_type": "code",
   "execution_count": 29,
   "metadata": {},
   "outputs": [
    {
     "data": {
      "text/plain": [
       "[[0, 0, 0, 0, 0], [0, 1, 2, 3, 4], [0, 2, 4, 6, 8]]"
      ]
     },
     "execution_count": 29,
     "metadata": {},
     "output_type": "execute_result"
    }
   ],
   "source": [
    "two_dimention_array(3,5)"
   ]
  },
  {
   "cell_type": "markdown",
   "metadata": {},
   "source": [
    "### Question 3"
   ]
  },
  {
   "cell_type": "code",
   "execution_count": 44,
   "metadata": {},
   "outputs": [],
   "source": [
    "def alphabetic(words):\n",
    "    words = words.split(\",\")\n",
    "    l = []\n",
    "    words.sort()\n",
    "    for i in words:\n",
    "        l.append(i)\n",
    "    joined_string = \",\".join(l)\n",
    "    return joined_string"
   ]
  },
  {
   "cell_type": "code",
   "execution_count": 45,
   "metadata": {},
   "outputs": [
    {
     "data": {
      "text/plain": [
       "'bag,hello,without,world'"
      ]
     },
     "execution_count": 45,
     "metadata": {},
     "output_type": "execute_result"
    }
   ],
   "source": [
    "alphabetic(\"without,hello,bag,world\")"
   ]
  },
  {
   "cell_type": "markdown",
   "metadata": {},
   "source": [
    "### Question 4"
   ]
  },
  {
   "cell_type": "code",
   "execution_count": 56,
   "metadata": {},
   "outputs": [],
   "source": [
    "def whitespace(string):\n",
    "    words = string.split(\" \")\n",
    "    k = []\n",
    "    for word in words:\n",
    "        if (words.count(word)>=1 and (word not in k)):\n",
    "                k.append(word)\n",
    "    k.sort()\n",
    "    joined_string = \" \".join(k)\n",
    "    return joined_string"
   ]
  },
  {
   "cell_type": "code",
   "execution_count": 57,
   "metadata": {},
   "outputs": [
    {
     "data": {
      "text/plain": [
       "'again and hello makes perfect practice world'"
      ]
     },
     "execution_count": 57,
     "metadata": {},
     "output_type": "execute_result"
    }
   ],
   "source": [
    "whitespace(\"hello world and practice makes perfect and hello world again\")"
   ]
  },
  {
   "cell_type": "markdown",
   "metadata": {},
   "source": [
    "### Question 5"
   ]
  },
  {
   "cell_type": "code",
   "execution_count": 61,
   "metadata": {},
   "outputs": [],
   "source": [
    "def count(string):\n",
    "    digits = 0\n",
    "    letters = 0\n",
    "    for i in string:\n",
    "        if(i.isdigit()):\n",
    "            digits+=1\n",
    "        if(i.isalpha()):\n",
    "            letters+=1\n",
    "    print(\"LETTERS \", letters)\n",
    "    print(\"DIGITS \", digits)"
   ]
  },
  {
   "cell_type": "code",
   "execution_count": 62,
   "metadata": {},
   "outputs": [
    {
     "name": "stdout",
     "output_type": "stream",
     "text": [
      "LETTERS  10\n",
      "DIGITS  3\n"
     ]
    }
   ],
   "source": [
    "count(\"hello world! 123\")"
   ]
  },
  {
   "cell_type": "markdown",
   "metadata": {},
   "source": [
    "### Question 6"
   ]
  },
  {
   "cell_type": "code",
   "execution_count": null,
   "metadata": {},
   "outputs": [],
   "source": [
    "def password():\n",
    "    flag = 0\n",
    "    while True:  \n",
    "        if (len(password)<8):\n",
    "            flag = -1\n",
    "            break\n",
    "        elif not re.search(\"[a-z]\", password):\n",
    "            flag = -1\n",
    "            break\n",
    "        elif not re.search(\"[A-Z]\", password):\n",
    "            flag = -1\n",
    "            break\n",
    "        elif not re.search(\"[0-9]\", password):\n",
    "            flag = -1\n",
    "            break\n",
    "        elif not re.search(\"[_@$]\", password):\n",
    "            flag = -1\n",
    "            break\n",
    "        elif re.search(\"\\s\", password):\n",
    "            flag = -1\n",
    "            break\n",
    "        else:\n",
    "            flag = 0\n",
    "            print(\"Valid Password\")\n",
    "            break\n",
    "  \n",
    "    if flag ==-1:\n",
    "        print(\"Not a Valid Password\")"
   ]
  },
  {
   "cell_type": "code",
   "execution_count": 63,
   "metadata": {},
   "outputs": [],
   "source": [
    "import re\n",
    "def password(string):\n",
    "    passwords = string.split(\",\")\n",
    "    accept = []\n",
    "    for p in passwords:\n",
    "        flag = 0\n",
    "        if not re.search(\"[a-z]\", p):\n",
    "            flag = -1\n",
    "            break\n",
    "        if not re.search(\"[0-9]\", p):\n",
    "            flag = -1\n",
    "            break\n",
    "        if not re.search(\"[A-Z]\", p):\n",
    "            flag = -1\n",
    "            break\n",
    "        if not re.search(\"[$#@]\", p):\n",
    "            flag = -1\n",
    "            break\n",
    "        if (len(p)<6):\n",
    "            flag = -1\n",
    "            break\n",
    "        if (len(p)>12):\n",
    "            flag = -1\n",
    "            break\n",
    "        accept.append(p)\n",
    "    joined_string = \",\".join(accept)\n",
    "    return joined_string"
   ]
  },
  {
   "cell_type": "code",
   "execution_count": 64,
   "metadata": {},
   "outputs": [
    {
     "data": {
      "text/plain": [
       "'ABd1234@1'"
      ]
     },
     "execution_count": 64,
     "metadata": {},
     "output_type": "execute_result"
    }
   ],
   "source": [
    "password(\"ABd1234@1,a F1#,2w3E*,2We3345\")"
   ]
  }
 ],
 "metadata": {
  "kernelspec": {
   "display_name": "Python 3",
   "language": "python",
   "name": "python3"
  },
  "language_info": {
   "codemirror_mode": {
    "name": "ipython",
    "version": 3
   },
   "file_extension": ".py",
   "mimetype": "text/x-python",
   "name": "python",
   "nbconvert_exporter": "python",
   "pygments_lexer": "ipython3",
   "version": "3.6.8"
  }
 },
 "nbformat": 4,
 "nbformat_minor": 2
}
