{
 "cells": [
  {
   "cell_type": "markdown",
   "metadata": {},
   "source": [
    "### Question 1"
   ]
  },
  {
   "cell_type": "code",
   "execution_count": 6,
   "metadata": {},
   "outputs": [],
   "source": [
    "def unique_dict(dic):\n",
    "    values = dic.values()\n",
    "    values = list(set(values))\n",
    "    return values"
   ]
  },
  {
   "cell_type": "code",
   "execution_count": 7,
   "metadata": {},
   "outputs": [
    {
     "data": {
      "text/plain": [
       "['Lichi', 'Mango', 'Apple', 'Banana', 'Kiwi', 'Orange']"
      ]
     },
     "execution_count": 7,
     "metadata": {},
     "output_type": "execute_result"
    }
   ],
   "source": [
    "unique_dict({1: \"Apple\", 2: \"Mango\", 3: \"Banana\", 4: \"Apple\", 5: \"Kiwi\", 6: \"Apple\", 7: \"Lichi\", 8: \"Banana\", 9: \"Apple\", 10: \"Orange\"})"
   ]
  },
  {
   "cell_type": "markdown",
   "metadata": {},
   "source": [
    "### Question 2"
   ]
  },
  {
   "cell_type": "code",
   "execution_count": 16,
   "metadata": {},
   "outputs": [],
   "source": [
    "def item_sum(dic):\n",
    "    items = dic.values()\n",
    "    s = 0\n",
    "    for i in items:\n",
    "        s += i\n",
    "    return s"
   ]
  },
  {
   "cell_type": "code",
   "execution_count": 17,
   "metadata": {},
   "outputs": [
    {
     "data": {
      "text/plain": [
       "600"
      ]
     },
     "execution_count": 17,
     "metadata": {},
     "output_type": "execute_result"
    }
   ],
   "source": [
    "item_sum({'a': 100, 'b':200, 'c':300})"
   ]
  },
  {
   "cell_type": "markdown",
   "metadata": {},
   "source": [
    "### Question 3"
   ]
  },
  {
   "cell_type": "code",
   "execution_count": 18,
   "metadata": {},
   "outputs": [],
   "source": [
    "dict_1 = {1: \"Apple\", 2: \"Mango\", 3: \"Banana\", 4: \"Apple\", 5: \"Kiwi\", 6: \"Apple\", 7: \"Lichi\", 8: \"Banana\", 9: \"Apple\", 10: \"Orange\"}\n",
    "dict_2 = {'a': 100, 'b':200, 'c':300}"
   ]
  },
  {
   "cell_type": "code",
   "execution_count": 28,
   "metadata": {},
   "outputs": [],
   "source": [
    "def merge_dict(dict1, dict2):\n",
    "    result = {**dict1, **dict2}\n",
    "    return result"
   ]
  },
  {
   "cell_type": "code",
   "execution_count": 29,
   "metadata": {},
   "outputs": [
    {
     "data": {
      "text/plain": [
       "{1: 'Apple',\n",
       " 2: 'Mango',\n",
       " 3: 'Banana',\n",
       " 4: 'Apple',\n",
       " 5: 'Kiwi',\n",
       " 6: 'Apple',\n",
       " 7: 'Lichi',\n",
       " 8: 'Banana',\n",
       " 9: 'Apple',\n",
       " 10: 'Orange',\n",
       " 'a': 100,\n",
       " 'b': 200,\n",
       " 'c': 300}"
      ]
     },
     "execution_count": 29,
     "metadata": {},
     "output_type": "execute_result"
    }
   ],
   "source": [
    "merge_dict(dict_1, dict_2)"
   ]
  },
  {
   "cell_type": "markdown",
   "metadata": {},
   "source": [
    "### Question 4"
   ]
  },
  {
   "cell_type": "code",
   "execution_count": 31,
   "metadata": {},
   "outputs": [],
   "source": [
    "def flat_dict(keys, values):\n",
    "    dic = dict(zip(keys , values))\n",
    "    return dic"
   ]
  },
  {
   "cell_type": "code",
   "execution_count": 32,
   "metadata": {},
   "outputs": [],
   "source": [
    "keys = [1,2,3,4,5]\n",
    "values = ['a', 'b', 'c', 'd', 'e']"
   ]
  },
  {
   "cell_type": "code",
   "execution_count": 33,
   "metadata": {},
   "outputs": [
    {
     "data": {
      "text/plain": [
       "{1: 'a', 2: 'b', 3: 'c', 4: 'd', 5: 'e'}"
      ]
     },
     "execution_count": 33,
     "metadata": {},
     "output_type": "execute_result"
    }
   ],
   "source": [
    "flat_dict(keys, values)"
   ]
  },
  {
   "cell_type": "markdown",
   "metadata": {},
   "source": [
    "### Question 5"
   ]
  },
  {
   "cell_type": "code",
   "execution_count": 34,
   "metadata": {},
   "outputs": [],
   "source": [
    "from collections import OrderedDict\n",
    "\n",
    "def insert(dict_1, dict_2):\n",
    "    result = OrderedDict(list(dict_2.items()) + list(dict_1.items()))\n",
    "    return result"
   ]
  },
  {
   "cell_type": "code",
   "execution_count": 35,
   "metadata": {},
   "outputs": [
    {
     "data": {
      "text/plain": [
       "OrderedDict([('a', 100),\n",
       "             ('b', 200),\n",
       "             ('c', 300),\n",
       "             (1, 'Apple'),\n",
       "             (2, 'Mango'),\n",
       "             (3, 'Banana'),\n",
       "             (4, 'Apple'),\n",
       "             (5, 'Kiwi'),\n",
       "             (6, 'Apple'),\n",
       "             (7, 'Lichi'),\n",
       "             (8, 'Banana'),\n",
       "             (9, 'Apple'),\n",
       "             (10, 'Orange')])"
      ]
     },
     "execution_count": 35,
     "metadata": {},
     "output_type": "execute_result"
    }
   ],
   "source": [
    "insert(dict_1, dict_2)"
   ]
  },
  {
   "cell_type": "markdown",
   "metadata": {},
   "source": [
    "### Question 6"
   ]
  },
  {
   "cell_type": "code",
   "execution_count": 36,
   "metadata": {},
   "outputs": [],
   "source": [
    "def check_order(string, sequence):\n",
    "    dic = OrderedDict.fromkeys(string)\n",
    "    seq_len = 0\n",
    "    for key,value in dic.items():\n",
    "        if(key == sequence[seq_len]):\n",
    "            seq_len += 1\n",
    "        if(seq_len == len(sequence)):\n",
    "            return 'true'\n",
    "    return 'false'"
   ]
  },
  {
   "cell_type": "code",
   "execution_count": 38,
   "metadata": {},
   "outputs": [
    {
     "data": {
      "text/plain": [
       "'true'"
      ]
     },
     "execution_count": 38,
     "metadata": {},
     "output_type": "execute_result"
    }
   ],
   "source": [
    "check_order(\"Manasa\",\"Ms\")"
   ]
  },
  {
   "cell_type": "markdown",
   "metadata": {},
   "source": [
    "### Question 7"
   ]
  },
  {
   "cell_type": "code",
   "execution_count": 44,
   "metadata": {},
   "outputs": [],
   "source": [
    "def sort(dic):\n",
    "    for i in sorted(dic.keys()):\n",
    "        print(i, dic[i])"
   ]
  },
  {
   "cell_type": "code",
   "execution_count": 45,
   "metadata": {},
   "outputs": [],
   "source": [
    "dict_3 = {2:'q', 6:'w', 5:'g', 7:'f', 0:'j'}"
   ]
  },
  {
   "cell_type": "code",
   "execution_count": 46,
   "metadata": {},
   "outputs": [
    {
     "name": "stdout",
     "output_type": "stream",
     "text": [
      "0 j\n",
      "2 q\n",
      "5 g\n",
      "6 w\n",
      "7 f\n"
     ]
    }
   ],
   "source": [
    "sort(dict_3)"
   ]
  }
 ],
 "metadata": {
  "kernelspec": {
   "display_name": "Python 3",
   "language": "python",
   "name": "python3"
  },
  "language_info": {
   "codemirror_mode": {
    "name": "ipython",
    "version": 3
   },
   "file_extension": ".py",
   "mimetype": "text/x-python",
   "name": "python",
   "nbconvert_exporter": "python",
   "pygments_lexer": "ipython3",
   "version": "3.6.8"
  }
 },
 "nbformat": 4,
 "nbformat_minor": 2
}
